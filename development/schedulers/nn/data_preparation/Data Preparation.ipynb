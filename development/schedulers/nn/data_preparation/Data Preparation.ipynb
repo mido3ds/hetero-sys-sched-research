{
 "cells": [
  {
   "cell_type": "code",
   "execution_count": 1,
   "metadata": {},
   "outputs": [],
   "source": [
    "import pandas as pd\n",
    "import numpy as np\n",
    "import os\n",
    "import random "
   ]
  },
  {
   "cell_type": "code",
   "execution_count": 2,
   "metadata": {
    "scrolled": true
   },
   "outputs": [],
   "source": [
    "# jobs lists preparation\n",
    "job_files = os.listdir(\"rx_485\")\n",
    "idx = 0\n",
    "job_num = dict()\n",
    "\n",
    "for fname in job_files:\n",
    "    \n",
    "    file = open(os.path.join(\"rx_485\", fname))\n",
    "    content = file.readlines()\n",
    "    \n",
    "    arrival_time = eval(content[6])\n",
    "    burst_time = eval(content[2])\n",
    "    priority = eval(content[4])\n",
    "    mem_util = dict()\n",
    "    for i in range(len(arrival_time.keys())):\n",
    "        mem_util[i] = random.choice([10, 100, 50, 500, 1000, 250, 75])\n",
    "        \n",
    "    at_df = pd.DataFrame(list(arrival_time.items()),columns = ['job_id','arrival_time'])\n",
    "    bt_df = pd.DataFrame(list(burst_time.items()),columns = ['job_id','burst_time'])\n",
    "    p_df = pd.DataFrame(list(priority.items()),columns = ['job_id','priority'])\n",
    "    mu_df = pd.DataFrame(list(mem_util.items()),columns = ['job_id','mem_util'])\n",
    "    \n",
    "    tot_df = pd.merge(at_df, bt_df, how='right', on=['job_id'])\n",
    "    tot_df = pd.merge(tot_df, p_df, how='right', on=['job_id'])\n",
    "    tot_df = pd.merge(tot_df, mu_df, how='right', on=['job_id'])\n",
    "    \n",
    "    tot_df.to_csv('../data/jobs/{}.csv'.format(idx), index=False)\n",
    "    \n",
    "    job_num[idx] = len(arrival_time.keys())\n",
    "    idx += 1   "
   ]
  },
  {
   "cell_type": "code",
   "execution_count": 3,
   "metadata": {},
   "outputs": [],
   "source": [
    "# machine list preparation\n",
    "num_cores = dict()\n",
    "core_freq = dict()\n",
    "mem_cap = dict()\n",
    "\n",
    "for i in range(len(job_files)):    \n",
    "    num_cores[i] = random.choice([4, 6, 8, 10, 16, 32, 64])\n",
    "    core_freq[i] = random.choice([500, 1000, 1500, 2000, 2500, 3000])\n",
    "    mem_cap[i] = random.choice([500, 1000, 2000, 4000, 8000, 16000])\n",
    "    \n",
    "nc_df = pd.DataFrame(list(num_cores.items()),columns = ['machine_id','num_cores'])\n",
    "cf_df = pd.DataFrame(list(core_freq.items()),columns = ['machine_id','core_freq'])\n",
    "mc_df = pd.DataFrame(list(mem_cap.items()),columns = ['machine_id','mem_cap'])\n",
    "\n",
    "tot_df = pd.merge(nc_df, cf_df, how='right', on=['machine_id'])\n",
    "tot_df = pd.merge(tot_df, mc_df, how='right', on=['machine_id'])\n",
    "\n",
    "tot_df.to_csv('../data/machines/machines.csv', index=False)    "
   ]
  },
  {
   "cell_type": "code",
   "execution_count": 4,
   "metadata": {},
   "outputs": [],
   "source": [
    "# results list preparation\n",
    "results = pd.read_csv(\"results.csv\")\n",
    "\n",
    "for idx in job_num.keys():\n",
    "    \n",
    "    machine_num = dict()\n",
    "    start_time = dict()\n",
    "    finish_time = dict()\n",
    "    \n",
    "    for job in range(job_num[idx]):\n",
    "        \n",
    "        machine_num[job] = random.randint(0,122)\n",
    "        start_time[job] = random.uniform(0,500000)\n",
    "        finish_time[job] = random.uniform(500000,1000000)\n",
    "    \n",
    "    mn_df = pd.DataFrame(list(machine_num.items()),columns = ['job_id','machine_num'])\n",
    "    st_df = pd.DataFrame(list(start_time.items()),columns = ['job_id','start_time'])\n",
    "    ft_df = pd.DataFrame(list(finish_time.items()),columns = ['job_id','finish_time'])\n",
    "\n",
    "    tot_df = pd.merge(mn_df, st_df, how='right', on=['job_id'])\n",
    "    tot_df = pd.merge(tot_df, ft_df, how='right', on=['job_id'])\n",
    "\n",
    "    tot_df.to_csv('../data/schedules/{}.csv'.format(idx), index=False) "
   ]
  },
  {
   "cell_type": "code",
   "execution_count": null,
   "metadata": {},
   "outputs": [],
   "source": []
  }
 ],
 "metadata": {
  "kernelspec": {
   "display_name": "Python 3",
   "language": "python",
   "name": "python3"
  },
  "language_info": {
   "codemirror_mode": {
    "name": "ipython",
    "version": 3
   },
   "file_extension": ".py",
   "mimetype": "text/x-python",
   "name": "python",
   "nbconvert_exporter": "python",
   "pygments_lexer": "ipython3",
   "version": "3.7.5"
  }
 },
 "nbformat": 4,
 "nbformat_minor": 2
}
